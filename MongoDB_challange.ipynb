{
 "cells": [
  {
   "cell_type": "code",
   "execution_count": 4,
   "metadata": {
    "collapsed": false
   },
   "outputs": [],
   "source": [
    "from pymongo import MongoClient\n",
    "client = MongoClient()\n",
    "\n",
    "import pickle\n",
    "with open('heavy_metal_parsed.pkl','r') as infile:\n",
    "    reviews = pickle.load(infile)   "
   ]
  },
  {
   "cell_type": "code",
   "execution_count": 24,
   "metadata": {
    "collapsed": false
   },
   "outputs": [
    {
     "name": "stdout",
     "output_type": "stream",
     "text": [
      "877\n",
      "<type 'list'>\n"
     ]
    }
   ],
   "source": [
    "print len(reviews)\n",
    "print type(reviews)"
   ]
  },
  {
   "cell_type": "code",
   "execution_count": 8,
   "metadata": {
    "collapsed": false
   },
   "outputs": [
    {
     "data": {
      "text/plain": [
       "{'cast': [u'Frank Zappa',\n",
       "  u'Ringo Starr',\n",
       "  u'Mark Volman',\n",
       "  u'Howard Kaylan',\n",
       "  u'Keith Moon'],\n",
       " 'direct': [u'Tony Palmer', u'Frank Zappa'],\n",
       " 'head': [u'200 MOTELS (1971)',\n",
       "  u'DIRECTORS: Tony Palmer, Frank Zappa',\n",
       "  u'CAST: Frank Zappa, Ringo Starr, Mark Volman, Howard Kaylan, Keith\\nMoon'],\n",
       " 'metal_cred': [u'METAL CRED', u'Frank Zappa', u'Nun Desecration'],\n",
       " 'raw': [u'200 MOTELS (1971)',\n",
       "  u'DIRECTORS: Tony Palmer, Frank Zappa',\n",
       "  u'CAST: Frank Zappa, Ringo Starr, Mark Volman, Howard Kaylan, Keith\\nMoon',\n",
       "  u'METAL CRED',\n",
       "  u'Frank Zappa',\n",
       "  u'Nun Desecration',\n",
       "  u'THE MEAT',\n",
       "  u'Beyond his metal sainthood for\\nbattling the censor-witches of the PMRC and getting named checked by Deep\\nPurple in \\u201cSmoke on the Water\\u201d, musical visionary Frank Zappa led many rock\\nfans to heavy metal.',\n",
       "  u'And, from there, he led many metal\\nfans to the outer expanses of rock\\u2019s possibilities.',\n",
       "  u'Zappa also opened countless banging\\nheads to the far reaches of jazz, classical, doo-wop, and any other art form\\nthat could involve (brilliant) noise and (brilliantly dumb) dirty jokes.',\n",
       "  u'200\\nMotels is Zappa\\u2019s first crack at major motion picture madness, and it\\nembodies the much forgotten cultural moment when acid rock tumbled forever into\\nthe black pits of rising heavy metal.',\n",
       "  u'Surrealistic sketches and\\npsychedelic set pieces about the insanity of a being on tour are interspersed\\namong performances in which the Mothers jam with London Philharmonic.',\n",
       "  u'Ringo Starr plays Zappa during the\\ntalking parts. Zappa himself, plays guitar throughout, demonstrating how very\\nmuch of a six-string maestro he was, every lick on par with his future\\ncollaborators Steve Vail and Yngwie Malmsteen.',\n",
       "  u'SOLID METAL NUGGETS',\n",
       "  u'\\u2022 A psychedelic cartoon interlude\\nadmiringly tweaks Black Sabbath and Grand Funk Railroad.',\n",
       "  u'\\u2022 Keith Moon, madman drummer of the\\nWho, pops up\\u2014and off\\u2014as \\u201cThe Hot Nun.\\u201d'],\n",
       " 'sections': [[u'200 MOTELS (1971)',\n",
       "   u'DIRECTORS: Tony Palmer, Frank Zappa',\n",
       "   u'CAST: Frank Zappa, Ringo Starr, Mark Volman, Howard Kaylan, Keith\\nMoon'],\n",
       "  [u'METAL CRED', u'Frank Zappa', u'Nun Desecration'],\n",
       "  [u'THE MEAT',\n",
       "   u'Beyond his metal sainthood for\\nbattling the censor-witches of the PMRC and getting named checked by Deep\\nPurple in \\u201cSmoke on the Water\\u201d, musical visionary Frank Zappa led many rock\\nfans to heavy metal.',\n",
       "   u'And, from there, he led many metal\\nfans to the outer expanses of rock\\u2019s possibilities.',\n",
       "   u'Zappa also opened countless banging\\nheads to the far reaches of jazz, classical, doo-wop, and any other art form\\nthat could involve (brilliant) noise and (brilliantly dumb) dirty jokes.',\n",
       "   u'200\\nMotels is Zappa\\u2019s first crack at major motion picture madness, and it\\nembodies the much forgotten cultural moment when acid rock tumbled forever into\\nthe black pits of rising heavy metal.',\n",
       "   u'Surrealistic sketches and\\npsychedelic set pieces about the insanity of a being on tour are interspersed\\namong performances in which the Mothers jam with London Philharmonic.',\n",
       "   u'Ringo Starr plays Zappa during the\\ntalking parts. Zappa himself, plays guitar throughout, demonstrating how very\\nmuch of a six-string maestro he was, every lick on par with his future\\ncollaborators Steve Vail and Yngwie Malmsteen.'],\n",
       "  [u'SOLID METAL NUGGETS',\n",
       "   u'\\u2022 A psychedelic cartoon interlude\\nadmiringly tweaks Black Sabbath and Grand Funk Railroad.',\n",
       "   u'\\u2022 Keith Moon, madman drummer of the\\nWho, pops up\\u2014and off\\u2014as \\u201cThe Hot Nun.\\u201d']],\n",
       " 'solid_metal_nuggets': [u'SOLID METAL NUGGETS',\n",
       "  u'\\u2022 A psychedelic cartoon interlude\\nadmiringly tweaks Black Sabbath and Grand Funk Railroad.',\n",
       "  u'\\u2022 Keith Moon, madman drummer of the\\nWho, pops up\\u2014and off\\u2014as \\u201cThe Hot Nun.\\u201d'],\n",
       " 'the_meat': [u'THE MEAT',\n",
       "  u'Beyond his metal sainthood for\\nbattling the censor-witches of the PMRC and getting named checked by Deep\\nPurple in \\u201cSmoke on the Water\\u201d, musical visionary Frank Zappa led many rock\\nfans to heavy metal.',\n",
       "  u'And, from there, he led many metal\\nfans to the outer expanses of rock\\u2019s possibilities.',\n",
       "  u'Zappa also opened countless banging\\nheads to the far reaches of jazz, classical, doo-wop, and any other art form\\nthat could involve (brilliant) noise and (brilliantly dumb) dirty jokes.',\n",
       "  u'200\\nMotels is Zappa\\u2019s first crack at major motion picture madness, and it\\nembodies the much forgotten cultural moment when acid rock tumbled forever into\\nthe black pits of rising heavy metal.',\n",
       "  u'Surrealistic sketches and\\npsychedelic set pieces about the insanity of a being on tour are interspersed\\namong performances in which the Mothers jam with London Philharmonic.',\n",
       "  u'Ringo Starr plays Zappa during the\\ntalking parts. Zappa himself, plays guitar throughout, demonstrating how very\\nmuch of a six-string maestro he was, every lick on par with his future\\ncollaborators Steve Vail and Yngwie Malmsteen.'],\n",
       " 'title': u'200 MOTELS',\n",
       " 'year': 1971}"
      ]
     },
     "execution_count": 8,
     "metadata": {},
     "output_type": "execute_result"
    }
   ],
   "source": [
    "reviews[0]"
   ]
  },
  {
   "cell_type": "code",
   "execution_count": 9,
   "metadata": {
    "collapsed": false
   },
   "outputs": [
    {
     "data": {
      "text/plain": [
       "['raw',\n",
       " 'head',\n",
       " 'metal_cred',\n",
       " 'title',\n",
       " 'direct',\n",
       " 'solid_metal_nuggets',\n",
       " 'cast',\n",
       " 'the_meat',\n",
       " 'year',\n",
       " 'sections']"
      ]
     },
     "execution_count": 9,
     "metadata": {},
     "output_type": "execute_result"
    }
   ],
   "source": [
    "reviews[0].keys()"
   ]
  },
  {
   "cell_type": "code",
   "execution_count": 28,
   "metadata": {
    "collapsed": false
   },
   "outputs": [
    {
     "name": "stdout",
     "output_type": "stream",
     "text": [
      "<class 'pymongo.collection.Collection'>\n"
     ]
    }
   ],
   "source": [
    "hmm = client.dsbc.hmm\n",
    "print type(hmm)\n",
    "# dsbc - database\n",
    "# hmm - collection"
   ]
  },
  {
   "cell_type": "code",
   "execution_count": 31,
   "metadata": {
    "collapsed": false
   },
   "outputs": [
    {
     "data": {
      "text/plain": [
       "{u'_id': ObjectId('555b9fb5b90ccd06ad2040bc'),\n",
       " u'cast': [u'Frank Zappa',\n",
       "  u'Ringo Starr',\n",
       "  u'Mark Volman',\n",
       "  u'Howard Kaylan',\n",
       "  u'Keith Moon'],\n",
       " u'direct': [u'Tony Palmer', u'Frank Zappa'],\n",
       " u'head': [u'200 MOTELS (1971)',\n",
       "  u'DIRECTORS: Tony Palmer, Frank Zappa',\n",
       "  u'CAST: Frank Zappa, Ringo Starr, Mark Volman, Howard Kaylan, Keith\\nMoon'],\n",
       " u'metal_cred': [u'METAL CRED', u'Frank Zappa', u'Nun Desecration'],\n",
       " u'raw': [u'200 MOTELS (1971)',\n",
       "  u'DIRECTORS: Tony Palmer, Frank Zappa',\n",
       "  u'CAST: Frank Zappa, Ringo Starr, Mark Volman, Howard Kaylan, Keith\\nMoon',\n",
       "  u'METAL CRED',\n",
       "  u'Frank Zappa',\n",
       "  u'Nun Desecration',\n",
       "  u'THE MEAT',\n",
       "  u'Beyond his metal sainthood for\\nbattling the censor-witches of the PMRC and getting named checked by Deep\\nPurple in \\u201cSmoke on the Water\\u201d, musical visionary Frank Zappa led many rock\\nfans to heavy metal.',\n",
       "  u'And, from there, he led many metal\\nfans to the outer expanses of rock\\u2019s possibilities.',\n",
       "  u'Zappa also opened countless banging\\nheads to the far reaches of jazz, classical, doo-wop, and any other art form\\nthat could involve (brilliant) noise and (brilliantly dumb) dirty jokes.',\n",
       "  u'200\\nMotels is Zappa\\u2019s first crack at major motion picture madness, and it\\nembodies the much forgotten cultural moment when acid rock tumbled forever into\\nthe black pits of rising heavy metal.',\n",
       "  u'Surrealistic sketches and\\npsychedelic set pieces about the insanity of a being on tour are interspersed\\namong performances in which the Mothers jam with London Philharmonic.',\n",
       "  u'Ringo Starr plays Zappa during the\\ntalking parts. Zappa himself, plays guitar throughout, demonstrating how very\\nmuch of a six-string maestro he was, every lick on par with his future\\ncollaborators Steve Vail and Yngwie Malmsteen.',\n",
       "  u'SOLID METAL NUGGETS',\n",
       "  u'\\u2022 A psychedelic cartoon interlude\\nadmiringly tweaks Black Sabbath and Grand Funk Railroad.',\n",
       "  u'\\u2022 Keith Moon, madman drummer of the\\nWho, pops up\\u2014and off\\u2014as \\u201cThe Hot Nun.\\u201d'],\n",
       " u'sections': [[u'200 MOTELS (1971)',\n",
       "   u'DIRECTORS: Tony Palmer, Frank Zappa',\n",
       "   u'CAST: Frank Zappa, Ringo Starr, Mark Volman, Howard Kaylan, Keith\\nMoon'],\n",
       "  [u'METAL CRED', u'Frank Zappa', u'Nun Desecration'],\n",
       "  [u'THE MEAT',\n",
       "   u'Beyond his metal sainthood for\\nbattling the censor-witches of the PMRC and getting named checked by Deep\\nPurple in \\u201cSmoke on the Water\\u201d, musical visionary Frank Zappa led many rock\\nfans to heavy metal.',\n",
       "   u'And, from there, he led many metal\\nfans to the outer expanses of rock\\u2019s possibilities.',\n",
       "   u'Zappa also opened countless banging\\nheads to the far reaches of jazz, classical, doo-wop, and any other art form\\nthat could involve (brilliant) noise and (brilliantly dumb) dirty jokes.',\n",
       "   u'200\\nMotels is Zappa\\u2019s first crack at major motion picture madness, and it\\nembodies the much forgotten cultural moment when acid rock tumbled forever into\\nthe black pits of rising heavy metal.',\n",
       "   u'Surrealistic sketches and\\npsychedelic set pieces about the insanity of a being on tour are interspersed\\namong performances in which the Mothers jam with London Philharmonic.',\n",
       "   u'Ringo Starr plays Zappa during the\\ntalking parts. Zappa himself, plays guitar throughout, demonstrating how very\\nmuch of a six-string maestro he was, every lick on par with his future\\ncollaborators Steve Vail and Yngwie Malmsteen.'],\n",
       "  [u'SOLID METAL NUGGETS',\n",
       "   u'\\u2022 A psychedelic cartoon interlude\\nadmiringly tweaks Black Sabbath and Grand Funk Railroad.',\n",
       "   u'\\u2022 Keith Moon, madman drummer of the\\nWho, pops up\\u2014and off\\u2014as \\u201cThe Hot Nun.\\u201d']],\n",
       " u'solid_metal_nuggets': [u'SOLID METAL NUGGETS',\n",
       "  u'\\u2022 A psychedelic cartoon interlude\\nadmiringly tweaks Black Sabbath and Grand Funk Railroad.',\n",
       "  u'\\u2022 Keith Moon, madman drummer of the\\nWho, pops up\\u2014and off\\u2014as \\u201cThe Hot Nun.\\u201d'],\n",
       " u'the_meat': [u'THE MEAT',\n",
       "  u'Beyond his metal sainthood for\\nbattling the censor-witches of the PMRC and getting named checked by Deep\\nPurple in \\u201cSmoke on the Water\\u201d, musical visionary Frank Zappa led many rock\\nfans to heavy metal.',\n",
       "  u'And, from there, he led many metal\\nfans to the outer expanses of rock\\u2019s possibilities.',\n",
       "  u'Zappa also opened countless banging\\nheads to the far reaches of jazz, classical, doo-wop, and any other art form\\nthat could involve (brilliant) noise and (brilliantly dumb) dirty jokes.',\n",
       "  u'200\\nMotels is Zappa\\u2019s first crack at major motion picture madness, and it\\nembodies the much forgotten cultural moment when acid rock tumbled forever into\\nthe black pits of rising heavy metal.',\n",
       "  u'Surrealistic sketches and\\npsychedelic set pieces about the insanity of a being on tour are interspersed\\namong performances in which the Mothers jam with London Philharmonic.',\n",
       "  u'Ringo Starr plays Zappa during the\\ntalking parts. Zappa himself, plays guitar throughout, demonstrating how very\\nmuch of a six-string maestro he was, every lick on par with his future\\ncollaborators Steve Vail and Yngwie Malmsteen.'],\n",
       " u'title': u'200 MOTELS',\n",
       " u'year': 1971}"
      ]
     },
     "execution_count": 31,
     "metadata": {},
     "output_type": "execute_result"
    }
   ],
   "source": [
    "hmm.find().next()"
   ]
  },
  {
   "cell_type": "code",
   "execution_count": 32,
   "metadata": {
    "collapsed": true
   },
   "outputs": [],
   "source": [
    "for review in reviews[1:]:\n",
    "    hmm.save(review)    "
   ]
  },
  {
   "cell_type": "code",
   "execution_count": 37,
   "metadata": {
    "collapsed": false
   },
   "outputs": [
    {
     "name": "stdout",
     "output_type": "stream",
     "text": [
      "<class 'pymongo.cursor.Cursor'>\n"
     ]
    }
   ],
   "source": [
    "cursor = hmm.find()\n",
    "print type(cursor)"
   ]
  },
  {
   "cell_type": "code",
   "execution_count": 38,
   "metadata": {
    "collapsed": false
   },
   "outputs": [
    {
     "data": {
      "text/plain": [
       "856"
      ]
     },
     "execution_count": 38,
     "metadata": {},
     "output_type": "execute_result"
    }
   ],
   "source": [
    "len(list(cursor))"
   ]
  },
  {
   "cell_type": "code",
   "execution_count": 39,
   "metadata": {
    "collapsed": false
   },
   "outputs": [
    {
     "data": {
      "text/plain": [
       "856"
      ]
     },
     "execution_count": 39,
     "metadata": {},
     "output_type": "execute_result"
    }
   ],
   "source": [
    "hmm.count()"
   ]
  }
 ],
 "metadata": {
  "kernelspec": {
   "display_name": "Python 2",
   "language": "python",
   "name": "python2"
  },
  "language_info": {
   "codemirror_mode": {
    "name": "ipython",
    "version": 2
   },
   "file_extension": ".py",
   "mimetype": "text/x-python",
   "name": "python",
   "nbconvert_exporter": "python",
   "pygments_lexer": "ipython2",
   "version": "2.7.9"
  }
 },
 "nbformat": 4,
 "nbformat_minor": 0
}
