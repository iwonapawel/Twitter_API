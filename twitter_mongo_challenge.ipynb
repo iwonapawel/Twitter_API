{
 "cells": [
  {
   "cell_type": "markdown",
   "metadata": {},
   "source": [
    "###Twitter API challenge"
   ]
  },
  {
   "cell_type": "code",
   "execution_count": 95,
   "metadata": {
    "collapsed": false
   },
   "outputs": [],
   "source": [
    "import cnfg\n",
    "config = cnfg.load(\".twitter.config\")"
   ]
  },
  {
   "cell_type": "code",
   "execution_count": 96,
   "metadata": {
    "collapsed": true
   },
   "outputs": [],
   "source": [
    "import requests\n",
    "from requests_oauthlib import OAuth1"
   ]
  },
  {
   "cell_type": "code",
   "execution_count": 97,
   "metadata": {
    "collapsed": true
   },
   "outputs": [],
   "source": [
    "oauth = OAuth1(config['consumer_key'],\n",
    "           config['consumer_secret'],\n",
    "           config['access_token'],\n",
    "           config['access_token_secret'])"
   ]
  },
  {
   "cell_type": "code",
   "execution_count": 98,
   "metadata": {
    "collapsed": false
   },
   "outputs": [],
   "source": [
    "import tweepy\n",
    "auth = tweepy.OAuthHandler(config['consumer_key'],config['consumer_secret'])\n",
    "auth.set_access_token(config['access_token'],config['access_token_secret'])\n",
    "api = tweepy.API(auth)"
   ]
  },
  {
   "cell_type": "code",
   "execution_count": 107,
   "metadata": {
    "collapsed": false
   },
   "outputs": [
    {
     "name": "stdout",
     "output_type": "stream",
     "text": [
      "<class 'pymongo.database.Database'>\n",
      "<class 'pymongo.collection.Collection'>\n",
      "{u'retweet_count': 0, u'screen_name': u'mkingrobson', u'text': u'Potential Root Cause of Asthma Discovered by Scientists http://t.co/m0tmgR5kPx #Asthma http://t.co/KjJVUzdZNt', u'created_at': datetime.datetime(2015, 5, 20, 20, 43, 12), u'coordinates': None, u'_id': ObjectId('555d00ebb90ccd118513baf3'), u'favorite_count': 0}\n"
     ]
    }
   ],
   "source": [
    "from pymongo import MongoClient\n",
    "import pymongo\n",
    "client = MongoClient()\n",
    "db = client.twitter_db\n",
    "print type(db)\n",
    "asthma = db.asthma\n",
    "print type(asthma)\n",
    "print asthma.find_one()\n",
    "#print list(asthma.find())\n"
   ]
  },
  {
   "cell_type": "code",
   "execution_count": 108,
   "metadata": {
    "collapsed": false
   },
   "outputs": [],
   "source": [
    "max_counts = 1000\n",
    "query = \"#asthma\"\n",
    "search_results = tweepy.Cursor(api.search,\n",
    "                       q=query,lang=\"en\",\n",
    "                       include_entities=True).items(max_counts)\n",
    "while True:\n",
    "    try:\n",
    "        tweets = search_results.next()\n",
    "        #print type(tweets)\n",
    "        \n",
    "        asthma.save({\"screen_name\": tweet.user.screen_name,\n",
    "                             \"coordinates\": tweet.coordinates,\n",
    "                             \"created_at\": tweet.created_at,\n",
    "                             \"favorite_count\" : tweet.favorite_count,\n",
    "                             \"retweet_count\" : tweet.retweet_count,\n",
    "                             \"text\" : tweet.text})\n",
    "        \n",
    "    except tweepy.TweepError:\n",
    "        time.sleep(60 * 15)\n",
    "        continue\n",
    "    except StopIteration:\n",
    "        break"
   ]
  },
  {
   "cell_type": "code",
   "execution_count": null,
   "metadata": {
    "collapsed": true
   },
   "outputs": [],
   "source": [
    "# the text, username, favorite count and retweet count of the tweet\n",
    "# retweet_count, user, coordinates, created_at, favorite_count,retweet_count\n",
    "\n",
    "#tweet.created_at, tweet.favorite_count, tweet.retweet_count, tweet.coordinates, tweet.text,"
   ]
  },
  {
   "cell_type": "code",
   "execution_count": 85,
   "metadata": {
    "collapsed": false
   },
   "outputs": [
    {
     "name": "stdout",
     "output_type": "stream",
     "text": [
      "<class 'tweepy.cursor.ItemIterator'>\n",
      "0 Queen_SALTY Twitter for iPhone\n",
      "\n",
      "1 JaimeGfromABC2 TweetDeck\n",
      "\n",
      "2 katrinafromABC2 Twitter Web Client\n",
      "\n",
      "3 asthmainstitute Twitter Web Client\n",
      "\n",
      "4 knoxmed TweetDeck\n",
      "\n",
      "5 DPrescriptio twitterfeed\n",
      "\n",
      "6 Clancy1000 eMerge\n",
      "\n",
      "7 StaceHatch Twitter for Android\n",
      "\n",
      "8 roxyposis Twitter for BlackBerry\n",
      "\n",
      "9 FocusGroupsDAL Hootsuite\n",
      "\n",
      "10 FocusGroupLA Hootsuite\n",
      "\n",
      "11 FocusGroupSFBAY Hootsuite\n",
      "\n",
      "12 FocusGroupSTL Hootsuite\n",
      "\n",
      "13 FocusPointeGLB Hootsuite\n",
      "\n",
      "14 FocusGroupsBOS Hootsuite\n",
      "\n",
      "15 FocusGroupsBALA Hootsuite\n",
      "\n",
      "16 Chaddsayers27 Twitter for iPhone\n",
      "\n",
      "17 datt_colette Twitter for iPhone\n",
      "\n",
      "18 EffieCraven Twitter Web Client\n",
      "\n",
      "19 mkingrobson dlvr.it\n",
      "\n"
     ]
    }
   ],
   "source": [
    "query = \"#asthma\"\n",
    "max_tweets = 20\n",
    "search_results = tweepy.Cursor(api.search,q=query,lang=\"en\",\\\n",
    "                              show_user=True).items(max_tweets)\n",
    "print type(search_results)\n",
    "for i, tweet in enumerate(search_results):\n",
    "    print i,  tweet.user.screen_name, tweet.source\n",
    "    print"
   ]
  }
 ],
 "metadata": {
  "kernelspec": {
   "display_name": "Python 2",
   "language": "python",
   "name": "python2"
  },
  "language_info": {
   "codemirror_mode": {
    "name": "ipython",
    "version": 2
   },
   "file_extension": ".py",
   "mimetype": "text/x-python",
   "name": "python",
   "nbconvert_exporter": "python",
   "pygments_lexer": "ipython2",
   "version": "2.7.9"
  }
 },
 "nbformat": 4,
 "nbformat_minor": 0
}
