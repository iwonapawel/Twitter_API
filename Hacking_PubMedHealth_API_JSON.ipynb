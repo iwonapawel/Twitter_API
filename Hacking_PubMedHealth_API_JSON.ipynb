{
 "cells": [
  {
   "cell_type": "markdown",
   "metadata": {},
   "source": [
    "## Hacking PubMedHealth API: JSON\n",
    "### 1) http://eutils.ncbi.nlm.nih.gov/entrez/eutils/esearch.fcgi?db=pubmedhealth& term=heart+disease&retmax=10000&usehistory=y&retmode=json\n",
    "#### http://eutils.ncbi.nlm.nih.gov/entrez/eutils/esearch.fcgi?\n",
    "#### db = pubmedhealth\n",
    "#### term = heart+disease\n",
    "#### retmax = 10000\n",
    "#### usehistory = y\n",
    "#### retmode = json\n",
    "### 2) http://eutils.ncbi.nlm.nih.gov/entrez/eutils/esummary.fcgi?db=pubmedhealth&retmode=json&id\n",
    "####  http://eutils.ncbi.nlm.nih.gov/entrez/eutils/esummary.fcgi?\n",
    "#### id\n"
   ]
  },
  {
   "cell_type": "code",
   "execution_count": 1,
   "metadata": {
    "collapsed": true
   },
   "outputs": [],
   "source": [
    "import urllib2\n",
    "import json"
   ]
  },
  {
   "cell_type": "code",
   "execution_count": 2,
   "metadata": {
    "collapsed": true
   },
   "outputs": [],
   "source": [
    "url = 'http://eutils.ncbi.nlm.nih.gov/entrez/eutils/esearch.fcgi?db=pubmedhealth&\\\n",
    "       term=heart+disease&retmax=10000&usehistory=y&retmode=json'\n",
    "parsed = json.load(urllib2.urlopen(url))\n",
    "#print json.dumps(parsed, indent=4)"
   ]
  },
  {
   "cell_type": "code",
   "execution_count": 3,
   "metadata": {
    "collapsed": false
   },
   "outputs": [
    {
     "name": "stdout",
     "output_type": "stream",
     "text": [
      "5143 5143\n"
     ]
    }
   ],
   "source": [
    "counts = parsed['esearchresult']['count']\n",
    "retmax = parsed['esearchresult']['retmax']\n",
    "ids = parsed['esearchresult']['idlist']\n",
    "print counts, retmax"
   ]
  },
  {
   "cell_type": "code",
   "execution_count": 7,
   "metadata": {
    "collapsed": false
   },
   "outputs": [
    {
     "name": "stdout",
     "output_type": "stream",
     "text": [
      "Number of processed articles 0\n",
      "Number of processed articles 500\n",
      "Number of processed articles 1000\n",
      "Number of processed articles 1500\n",
      "Number of processed articles 2000\n",
      "Number of processed articles 2500\n",
      "Number of processed articles 3000\n",
      "Number of processed articles 3500\n",
      "Number of processed articles 4000\n",
      "Number of processed articles 4500\n",
      "Number of processed articles 5000\n",
      "Downloaded 5143 articles\n"
     ]
    }
   ],
   "source": [
    "documents = []\n",
    "for i, id_ in enumerate(ids):\n",
    "    dict_ = {}\n",
    "    uid = 'http://eutils.ncbi.nlm.nih.gov/entrez/eutils/esummary.fcgi?db=pubmedhealth&retmode=json&id=%s' %id_\n",
    "    puid = json.load(urllib2.urlopen(uid))\n",
    "    #print json.dumps(puid, indent=4)\n",
    "    summary = json.dumps(puid['result'][id_]['teaser'])\n",
    "    dict_['url'] = uid\n",
    "    dict_['summary'] = summary.strip('\"')\n",
    "    documents.append(dict_)\n",
    "    if i < (int(retmax) - 1):\n",
    "        if i%500 == 0:\n",
    "            print 'Number of processed articles %d' % i\n",
    "    else:\n",
    "        print 'Downloaded %d articles' % len(documents)"
   ]
  },
  {
   "cell_type": "markdown",
   "metadata": {},
   "source": [
    "### Inserting data into MongoDB:\n",
    "#### db = pubmedhealth\n",
    "#### collection = heart\n",
    "#### document = {url, summary}"
   ]
  },
  {
   "cell_type": "code",
   "execution_count": 8,
   "metadata": {
    "collapsed": true
   },
   "outputs": [],
   "source": [
    "from pymongo import MongoClient"
   ]
  },
  {
   "cell_type": "code",
   "execution_count": 9,
   "metadata": {
    "collapsed": true
   },
   "outputs": [],
   "source": [
    "client = MongoClient()\n",
    "db = client.pubmedhealth\n",
    "heart_collection = db.heart\n",
    "for document in documents:\n",
    "    heart_collection.save(document)"
   ]
  },
  {
   "cell_type": "code",
   "execution_count": 10,
   "metadata": {
    "collapsed": false
   },
   "outputs": [
    {
     "data": {
      "text/plain": [
       "5143"
      ]
     },
     "execution_count": 10,
     "metadata": {},
     "output_type": "execute_result"
    }
   ],
   "source": [
    "heart_collection.count()"
   ]
  },
  {
   "cell_type": "code",
   "execution_count": 13,
   "metadata": {
    "collapsed": false
   },
   "outputs": [
    {
     "data": {
      "text/plain": [
       "[u'heart', u'system.indexes']"
      ]
     },
     "execution_count": 13,
     "metadata": {},
     "output_type": "execute_result"
    }
   ],
   "source": [
    "db.collection_names()"
   ]
  }
 ],
 "metadata": {
  "kernelspec": {
   "display_name": "Python 2",
   "language": "python",
   "name": "python2"
  },
  "language_info": {
   "codemirror_mode": {
    "name": "ipython",
    "version": 2
   },
   "file_extension": ".py",
   "mimetype": "text/x-python",
   "name": "python",
   "nbconvert_exporter": "python",
   "pygments_lexer": "ipython2",
   "version": "2.7.9"
  }
 },
 "nbformat": 4,
 "nbformat_minor": 0
}
